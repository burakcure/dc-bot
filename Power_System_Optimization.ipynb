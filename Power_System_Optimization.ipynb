{
  "nbformat": 4,
  "nbformat_minor": 0,
  "metadata": {
    "colab": {
      "name": "Power System Optimization",
      "provenance": []
    },
    "kernelspec": {
      "name": "python3",
      "display_name": "Python 3"
    },
    "language_info": {
      "name": "python"
    }
  },
  "cells": [
    {
      "cell_type": "code",
      "metadata": {
        "id": "IWxXLKV_CkEx"
      },
      "source": [
        "!pip install mip #pyomo, cvxpy \n",
        "from mip import *\n",
        "from itertools import product\n",
        "import matplotlib.pyplot as plt\n",
        "import numpy as np"
      ],
      "execution_count": null,
      "outputs": []
    },
    {
      "cell_type": "markdown",
      "metadata": {
        "id": "J51dLIulLYfF"
      },
      "source": [
        "![soru1.PNG](data:image/png;base64,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)"
      ]
    },
    {
      "cell_type": "markdown",
      "metadata": {
        "id": "mb3yzkbbLzAq"
      },
      "source": [
        "\n",
        "\n",
        "**STEP-1:** Create the model."
      ]
    },
    {
      "cell_type": "code",
      "metadata": {
        "id": "rr9EoGSVKWqs"
      },
      "source": [
        "m_1 = Model('model_1')"
      ],
      "execution_count": null,
      "outputs": []
    },
    {
      "cell_type": "markdown",
      "metadata": {
        "id": "GXCod5J2L8nq"
      },
      "source": [
        "**STEP-2:** Define variables."
      ]
    },
    {
      "cell_type": "code",
      "metadata": {
        "id": "jQJoyrNiLxhJ"
      },
      "source": [
        "x_1 = m_1.add_var(lb=-100,ub=100,var_type=BINARY)\n",
        "x_2 = m_1.add_var()\n",
        "x_3 = m_1.add_var()"
      ],
      "execution_count": null,
      "outputs": []
    },
    {
      "cell_type": "markdown",
      "metadata": {
        "id": "1h4z8lKzMXvL"
      },
      "source": [
        "**STEP-3:** Define constraints."
      ]
    },
    {
      "cell_type": "code",
      "metadata": {
        "id": "yLOpDiAdMXIh"
      },
      "source": [
        "m_1 += x_1 + 2*x_2 >= 3\n",
        "m_1 += x_3 + x_2 >= 5\n",
        "m_1 += x_1 + x_3 == 4"
      ],
      "execution_count": null,
      "outputs": []
    },
    {
      "cell_type": "markdown",
      "metadata": {
        "id": "eiXXOpneM8qC"
      },
      "source": [
        "**STEP-4:** Define objective function."
      ]
    },
    {
      "cell_type": "code",
      "metadata": {
        "id": "pVTFNlWvM31C"
      },
      "source": [
        "m_1.objective = minimize(x_1+3*x_2+3*x_3)"
      ],
      "execution_count": null,
      "outputs": []
    },
    {
      "cell_type": "markdown",
      "metadata": {
        "id": "yJeGgfNjNqc6"
      },
      "source": [
        "**STEP-5:** Execute optimization."
      ]
    },
    {
      "cell_type": "code",
      "metadata": {
        "id": "0Xwz4jyiNOca"
      },
      "source": [
        "m_1.optimize()"
      ],
      "execution_count": null,
      "outputs": []
    },
    {
      "cell_type": "markdown",
      "metadata": {
        "id": "7uXJeiHib23J"
      },
      "source": [
        "**STEP-6:** Print the results."
      ]
    },
    {
      "cell_type": "code",
      "metadata": {
        "id": "WTOGAr-DNTMy"
      },
      "source": [
        "print('')\n",
        "print('Objective value: {m_1.objective_value:.3} '.format(**locals()))\n",
        "print('Solution: ', end='')\n",
        "for v in m_1.vars:\n",
        "  if v.x > 1e-5:\n",
        "    print('{v.name} = {v.x} '.format(**locals()))\n",
        "    print(' ', end='')"
      ],
      "execution_count": null,
      "outputs": []
    },
    {
      "cell_type": "code",
      "source": [
        "I = range(0,3)"
      ],
      "metadata": {
        "id": "BezvBPXcMFLx"
      },
      "execution_count": null,
      "outputs": []
    },
    {
      "cell_type": "code",
      "source": [
        "for i in I:\n",
        "  print(i)"
      ],
      "metadata": {
        "id": "i2sxknRNMLLh"
      },
      "execution_count": null,
      "outputs": []
    },
    {
      "cell_type": "code",
      "source": [
        "m_1 = Model('model_1')\n",
        "I = range(0,3)\n",
        "#x_1 = m_1.add_var()\n",
        "x = [m_1.add_var() for i in I]\n",
        "#m_1 += x_1 + 2*x_2 >= 3\n",
        "m_1 += x[0] + 2*x[1] >= 3\n",
        "m_1 += x[2] + x[1] >= 5\n",
        "m_1 += x[0] + x[2] == 4\n",
        "m_1.objective = minimize(x[0]+3*x[1]+3*x[2])\n",
        "m_1.optimize()\n",
        "print('')\n",
        "print('Objective value: {m_1.objective_value:.3} '.format(**locals()))\n",
        "print('Solution: ', end='')\n",
        "for v in m_1.vars:\n",
        "  if v.x > 1e-5:\n",
        "    print('{v.name} = {v.x} '.format(**locals()))\n",
        "    print(' ', end='')"
      ],
      "metadata": {
        "id": "kTlMo6s2hyRU"
      },
      "execution_count": null,
      "outputs": []
    },
    {
      "cell_type": "markdown",
      "metadata": {
        "id": "8FhqGC2Edr4p"
      },
      "source": [
        "![soru2.PNG](data:image/png;base64,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)"
      ]
    },
    {
      "cell_type": "markdown",
      "metadata": {
        "id": "k3p1rluCghJh"
      },
      "source": [
        "**STEP-1:** Create the model."
      ]
    },
    {
      "cell_type": "code",
      "metadata": {
        "id": "LnKIvbq8NnF6"
      },
      "source": [
        "m_2 = Model('model2')"
      ],
      "execution_count": null,
      "outputs": []
    },
    {
      "cell_type": "markdown",
      "metadata": {
        "id": "8jrTWvnvgmjJ"
      },
      "source": [
        "\n",
        "\n",
        "**STEP-2:** Define variables."
      ]
    },
    {
      "cell_type": "code",
      "metadata": {
        "id": "gp3CLPmAd4zn"
      },
      "source": [
        "x = m_2.add_var(lb=0.3)\n",
        "y = m_2.add_var(var_type=BINARY)"
      ],
      "execution_count": null,
      "outputs": []
    },
    {
      "cell_type": "markdown",
      "metadata": {
        "id": "muYvrM1fgoyA"
      },
      "source": [
        "**STEP-3:** Define constraints."
      ]
    },
    {
      "cell_type": "code",
      "metadata": {
        "id": "ncASchX_eXJw"
      },
      "source": [
        "m_2 += -3*x+2*y >= 1\n",
        "m_2 += -8*x + 10*y <= 10\n",
        "m_2 += x >= 0.3"
      ],
      "execution_count": null,
      "outputs": []
    },
    {
      "cell_type": "markdown",
      "metadata": {
        "id": "cH5ZSTSXgrQ4"
      },
      "source": [
        "**STEP-4:** Define objective function."
      ]
    },
    {
      "cell_type": "code",
      "metadata": {
        "id": "oPhYlsI6eeog"
      },
      "source": [
        "m_2.objective = maximize(x+y)"
      ],
      "execution_count": null,
      "outputs": []
    },
    {
      "cell_type": "markdown",
      "metadata": {
        "id": "iMuWefp9gvIg"
      },
      "source": [
        "**STEP-5:** Execute optimization."
      ]
    },
    {
      "cell_type": "code",
      "metadata": {
        "id": "QlhKmQg8ekso"
      },
      "source": [
        "m_2.optimize()"
      ],
      "execution_count": null,
      "outputs": []
    },
    {
      "cell_type": "markdown",
      "metadata": {
        "id": "oK51jTiDg2mg"
      },
      "source": [
        "**STEP-6:** Print the results."
      ]
    },
    {
      "cell_type": "code",
      "metadata": {
        "id": "Uff4gjiMe-ZI"
      },
      "source": [
        "print('')\n",
        "print('Objective value: {m_2.objective_value:.3} '.format(**locals()))\n",
        "print('Solution: ', end='')\n",
        "for v in m_2.vars:\n",
        "  if v.x > 1e-5:\n",
        "    print('{v.name} = {v.x} '.format(**locals()))\n",
        "    print(' ', end='')"
      ],
      "execution_count": null,
      "outputs": []
    },
    {
      "cell_type": "markdown",
      "metadata": {
        "id": "2JcQOKwPiv0g"
      },
      "source": [
        "**The 0/1 Knapsack Problem**\n",
        "\n",
        "Consider the solution of the 0/1 knapsack problem: given a set I of items, each one with a weight wi and estimated profit pi, one wants to select a subset with maximum profit such that the summation of the weights of the selected items is less or equal to the knapsack capacity c. Considering a set of decision binary variables xi that receive value 1 if the i-th item is selected, or 0 if not, the resulting mathematical programming formulation is:\n"
      ]
    },
    {
      "cell_type": "markdown",
      "metadata": {
        "id": "Gmc0qLPbjXCn"
      },
      "source": [
        "![soru3.PNG](data:image/png;base64,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)"
      ]
    },
    {
      "cell_type": "markdown",
      "metadata": {
        "id": "yRAoKeCnude3"
      },
      "source": [
        "**STEP-0:** Define parameters and sets."
      ]
    },
    {
      "cell_type": "code",
      "metadata": {
        "id": "Ps6HP73kj5I_"
      },
      "source": [
        "p = [10, 13, 18, 31, 7, 15]\n",
        "w = [11, 15, 20, 35, 10, 33]"
      ],
      "execution_count": null,
      "outputs": []
    },
    {
      "cell_type": "code",
      "source": [
        "I =range(0,6)"
      ],
      "metadata": {
        "id": "ILvPjJh9PKD4"
      },
      "execution_count": null,
      "outputs": []
    },
    {
      "cell_type": "code",
      "source": [
        "for i in I:\n",
        "  print(i)"
      ],
      "metadata": {
        "id": "Kr7wgC8j8pKT"
      },
      "execution_count": null,
      "outputs": []
    },
    {
      "cell_type": "code",
      "metadata": {
        "id": "yV4ygIyIkDGw"
      },
      "source": [
        "c = 47 # the knapsack capacity \n",
        "I = range(len(w)) # set I of items"
      ],
      "execution_count": null,
      "outputs": []
    },
    {
      "cell_type": "code",
      "source": [
        "for i in I:\n",
        "  print(i)"
      ],
      "metadata": {
        "id": "aguzR476PlZG"
      },
      "execution_count": null,
      "outputs": []
    },
    {
      "cell_type": "markdown",
      "metadata": {
        "id": "EuJJzB2Fjz0w"
      },
      "source": [
        "**STEP-1:** Create the model."
      ]
    },
    {
      "cell_type": "code",
      "metadata": {
        "id": "jV8OcjOBfThY"
      },
      "source": [
        "m_3 = Model('model3')"
      ],
      "execution_count": null,
      "outputs": []
    },
    {
      "cell_type": "markdown",
      "metadata": {
        "id": "xuBB8ruwkjIQ"
      },
      "source": [
        "**STEP-2:** Define variables."
      ]
    },
    {
      "cell_type": "code",
      "metadata": {
        "id": "xdxjeQAFj2uI"
      },
      "source": [
        "x = [m_3.add_var(var_type=BINARY) for i in I]"
      ],
      "execution_count": null,
      "outputs": []
    },
    {
      "cell_type": "markdown",
      "metadata": {
        "id": "MEcQ3m-9k4aX"
      },
      "source": [
        "**STEP-3:** Define constraints."
      ]
    },
    {
      "cell_type": "code",
      "metadata": {
        "id": "KUNpBqEek14n"
      },
      "source": [
        "m_3 += xsum(w[i] * x[i] for i in I) <= c"
      ],
      "execution_count": null,
      "outputs": []
    },
    {
      "cell_type": "markdown",
      "metadata": {
        "id": "dvd1kHR8lGC3"
      },
      "source": [
        "**STEP-4:** Define objective function."
      ]
    },
    {
      "cell_type": "code",
      "metadata": {
        "id": "TyttslEwlDYw"
      },
      "source": [
        "m_3.objective = maximize(xsum(p[i] * x[i] for i in I))"
      ],
      "execution_count": null,
      "outputs": []
    },
    {
      "cell_type": "markdown",
      "metadata": {
        "id": "NEVM1LBWlLYX"
      },
      "source": [
        "**STEP-5:** Execute optimization."
      ]
    },
    {
      "cell_type": "code",
      "metadata": {
        "id": "eG0FkKTklJfv"
      },
      "source": [
        "m_3.optimize()"
      ],
      "execution_count": null,
      "outputs": []
    },
    {
      "cell_type": "markdown",
      "metadata": {
        "id": "KF4gz2Z5lUsA"
      },
      "source": [
        "**AŞAMA-6:** Sonuçlar yazdırılır."
      ]
    },
    {
      "cell_type": "code",
      "metadata": {
        "id": "uYt-8HGnlSo4"
      },
      "source": [
        "selected = [i for i in I if x[i].x >= 0.99]\n",
        "print(\"selected items: {} \".format(selected))"
      ],
      "execution_count": null,
      "outputs": []
    },
    {
      "cell_type": "markdown",
      "source": [
        "**STEP-0:** Define parameters and sets."
      ],
      "metadata": {
        "id": "5zfVVDZUHkAz"
      }
    },
    {
      "cell_type": "code",
      "source": [
        "p_max = [100,80]\n",
        "p_min = [0,0]\n",
        "price = [12,20]\n",
        "demand = [100,50]"
      ],
      "metadata": {
        "id": "3HEsF7cR0kr9"
      },
      "execution_count": null,
      "outputs": []
    },
    {
      "cell_type": "code",
      "source": [
        "K = range(len(p_max)) #range(0,2)\n",
        "I = range(len(demand))"
      ],
      "metadata": {
        "id": "-6gUQpAO07Hi"
      },
      "execution_count": null,
      "outputs": []
    },
    {
      "cell_type": "markdown",
      "source": [
        "**STEP-1:** Create the model."
      ],
      "metadata": {
        "id": "GR5dj5J0G6jC"
      }
    },
    {
      "cell_type": "code",
      "source": [
        "m_4 = Model('model_4')"
      ],
      "metadata": {
        "id": "P-Rbn425sXTf"
      },
      "execution_count": null,
      "outputs": []
    },
    {
      "cell_type": "markdown",
      "source": [
        "**STEP-2:** Define variables."
      ],
      "metadata": {
        "id": "a5wR1OuaHKpg"
      }
    },
    {
      "cell_type": "code",
      "source": [
        "p = [m_4.add_var('p{}'.format(k+1)) for k in K]"
      ],
      "metadata": {
        "id": "36L4xuJK1QKc"
      },
      "execution_count": null,
      "outputs": []
    },
    {
      "cell_type": "markdown",
      "source": [
        "**STEP-3:** Define constraints."
      ],
      "metadata": {
        "id": "jN54wKvqIFPT"
      }
    },
    {
      "cell_type": "code",
      "source": [
        "for k in K:\n",
        "  m_4 += p[k] <= p_max[k]\n",
        "  m_4 += p[k] >= p_min[k]\n",
        "m_4 += xsum(p[k] for k in K)>= xsum(demand[i] for i in I) #power balance"
      ],
      "metadata": {
        "id": "-Wb_E70m0-Zo"
      },
      "execution_count": null,
      "outputs": []
    },
    {
      "cell_type": "markdown",
      "source": [
        "**STEP-4:** Define objective function."
      ],
      "metadata": {
        "id": "-YLb-XVZIV54"
      }
    },
    {
      "cell_type": "code",
      "source": [
        "m_4.objective = minimize(xsum(p[k] * price[k] for k in K)) #p[0] * price[0] + p[1] * price[1]"
      ],
      "metadata": {
        "id": "oQY0THrR1AiA"
      },
      "execution_count": null,
      "outputs": []
    },
    {
      "cell_type": "markdown",
      "source": [
        "**STEP-5:** Execute optimization."
      ],
      "metadata": {
        "id": "C5_CeUcDIe1Y"
      }
    },
    {
      "cell_type": "code",
      "source": [
        "m_4.max_gap = 0.05\n",
        "status = m_4.optimize()"
      ],
      "metadata": {
        "id": "73CKewx-15lF"
      },
      "execution_count": null,
      "outputs": []
    },
    {
      "cell_type": "markdown",
      "source": [
        "**STEP-6:** Print the results."
      ],
      "metadata": {
        "id": "T9wPqCDIIrTc"
      }
    },
    {
      "cell_type": "code",
      "source": [
        "if status == OptimizationStatus.OPTIMAL:\n",
        "    print('optimal solution cost {}'.format(m_4.objective_value))\n",
        "elif status == OptimizationStatus.FEASIBLE:\n",
        "    print('sol.cost {} found, best possible: {}'.format(m_4.objective_value, m_4.objective_bound))\n",
        "elif status == OptimizationStatus.NO_SOLUTION_FOUND:\n",
        "    print('no feasible solution found, lower bound is: {}'.format(m_4.objective_bound))\n",
        "if status == OptimizationStatus.OPTIMAL or status == OptimizationStatus.FEASIBLE:\n",
        "    print('solution:')\n",
        "    for v in m_4.vars:\n",
        "       if abs(v.x) > 1e-6: # only printing non-zeros\n",
        "          print('{} : {}'.format(v.name, v.x))"
      ],
      "metadata": {
        "id": "_6ZmoFvE1_RE"
      },
      "execution_count": null,
      "outputs": []
    }
  ]
}